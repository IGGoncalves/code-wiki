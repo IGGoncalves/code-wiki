{
 "cells": [
  {
   "attachments": {},
   "cell_type": "markdown",
   "metadata": {},
   "source": [
    "# Top K Frequent Elements\n",
    "\n",
    "Given an integer array `nums` and an integer `k`, return the `k` most frequent elements. You may return the answer in any order.\n",
    "\n",
    "## Solution\n",
    "\n",
    "The goal in this problem is to create an hash table with the occurrences in the array and their corresponding counts. Then, we can sort the number of occurrences and obtain the `k` most frequent items.\n",
    "\n",
    "## Counting objects in Python\n",
    "\n",
    "> This section is based on a post available on Real Python. For more information, check the original [blog post](https://realpython.com/python-counter/).\n",
    "\n",
    "### Using dictionaries\n",
    "\n",
    "There are several options to count objects in Python. For example, it is possible to build a `dict` using the values to be counted as `keys` and their frequency as `values`. It's important to remember that we must check if the key exists before we increase the count."
   ]
  },
  {
   "cell_type": "code",
   "execution_count": 7,
   "metadata": {},
   "outputs": [
    {
     "name": "stdout",
     "output_type": "stream",
     "text": [
      "{'s': 1, 'u': 2, 'b': 1, 'a': 1, 'r': 1}\n"
     ]
    }
   ],
   "source": [
    "# Option 1: Using a dict\n",
    "\n",
    "word = \"subaru\"\n",
    "counter = {}\n",
    "\n",
    "for letter in word:\n",
    "    if letter not in counter:\n",
    "        counter[letter] = 0\n",
    "    counter[letter] += 1\n",
    "\n",
    "print(counter)"
   ]
  },
  {
   "attachments": {},
   "cell_type": "markdown",
   "metadata": {},
   "source": [
    "This approach requires that we initialize the count as `0` if the key is not in the `dict` yet. To make the code more concise, we can use the `get()` method instead, which returns a default value when the key cannot be found."
   ]
  },
  {
   "cell_type": "code",
   "execution_count": 8,
   "metadata": {},
   "outputs": [
    {
     "name": "stdout",
     "output_type": "stream",
     "text": [
      "{'s': 1, 'u': 2, 'b': 1, 'a': 1, 'r': 1}\n"
     ]
    }
   ],
   "source": [
    "# Option 2: Using a dict with the .get() method\n",
    "counter = {}\n",
    "\n",
    "for letter in word:\n",
    "    counter[letter] = counter.get(letter, 0) + 1\n",
    "\n",
    "print(counter)"
   ]
  },
  {
   "attachments": {},
   "cell_type": "markdown",
   "metadata": {},
   "source": [
    "To further improve readability, a `defauldict` can be used. This class uses a default factory function that automatically creates the key when needed and assigns a default value to it."
   ]
  },
  {
   "cell_type": "code",
   "execution_count": 9,
   "metadata": {},
   "outputs": [
    {
     "name": "stdout",
     "output_type": "stream",
     "text": [
      "defaultdict(<class 'int'>, {'s': 1, 'u': 2, 'b': 1, 'a': 1, 'r': 1})\n"
     ]
    }
   ],
   "source": [
    "# Option 2: Using a defaultdict with a int default factory\n",
    "\n",
    "from collections import defaultdict\n",
    "\n",
    "counter = defaultdict(int)\n",
    "\n",
    "for letter in word:\n",
    "    counter[letter] += 1\n",
    "\n",
    "print(counter)"
   ]
  },
  {
   "attachments": {},
   "cell_type": "markdown",
   "metadata": {},
   "source": [
    "### Using `Counter`\n",
    "\n",
    "`Counter` was specifically designed to count objects. It takes a sequence as input and performs the same routine we implemented before to return a dictionary with the occurrences and their frequencies."
   ]
  },
  {
   "cell_type": "code",
   "execution_count": 10,
   "metadata": {},
   "outputs": [
    {
     "data": {
      "text/plain": [
       "Counter({'s': 1, 'u': 2, 'b': 1, 'a': 1, 'r': 1})"
      ]
     },
     "execution_count": 10,
     "metadata": {},
     "output_type": "execute_result"
    }
   ],
   "source": [
    "from collections import Counter\n",
    "\n",
    "Counter(word)"
   ]
  },
  {
   "attachments": {},
   "cell_type": "markdown",
   "metadata": {},
   "source": [
    "In addition, the `Counter` class includes methods to find the most common occurrences, which makes it helpful to solve this problem.\n",
    "\n",
    "## Solution with Counter\n",
    "\n",
    "To solve this problem, we can initialize a `Counter` and then use the `most_common(k)` method to sort the occurrences by frequency and return the `k` most frequent. This method will return a list of tuples with the key and number of occurrences, of which we only need the keys."
   ]
  },
  {
   "cell_type": "code",
   "execution_count": 16,
   "metadata": {},
   "outputs": [
    {
     "name": "stdout",
     "output_type": "stream",
     "text": [
      "Result of most common method (key, frequency):  [(1, 3), (2, 2), (3, 1)]\n",
      "Solution:  [1, 2]\n"
     ]
    }
   ],
   "source": [
    "nums = [1,1,1,2,2,3]\n",
    "k = 2\n",
    "counter = Counter(nums)\n",
    "print(\"Result of most common method (key, frequency): \", counter.most_common())\n",
    "print(\"Solution: \", [key for key, val in counter.most_common(k)])"
   ]
  }
 ],
 "metadata": {
  "kernelspec": {
   "display_name": "Python 3",
   "language": "python",
   "name": "python3"
  },
  "language_info": {
   "codemirror_mode": {
    "name": "ipython",
    "version": 3
   },
   "file_extension": ".py",
   "mimetype": "text/x-python",
   "name": "python",
   "nbconvert_exporter": "python",
   "pygments_lexer": "ipython3",
   "version": "3.8.16"
  },
  "orig_nbformat": 4
 },
 "nbformat": 4,
 "nbformat_minor": 2
}
